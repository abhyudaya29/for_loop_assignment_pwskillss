{
 "cells": [
  {
   "cell_type": "markdown",
   "id": "9ddc1c53-d9dc-4fc4-b61b-57f17bba17e0",
   "metadata": {},
   "source": [
    "Q1 Explain with an example each when to use a for loop and a while loop."
   ]
  },
  {
   "cell_type": "markdown",
   "id": "b1556b22-5369-40da-bd8b-f9467b18f486",
   "metadata": {},
   "source": [
    "we use for loop when we now the number of iteration for elements in the data structure\n",
    "\n",
    "and we use while loop when we don;t know the number of iteration for elements in the data structure\n"
   ]
  },
  {
   "cell_type": "code",
   "execution_count": 15,
   "id": "c000b6d9-b2c6-48a8-8cb3-c1952755894b",
   "metadata": {},
   "outputs": [
    {
     "name": "stdout",
     "output_type": "stream",
     "text": [
      "1\n",
      "2\n",
      "3\n",
      "4\n",
      "5\n",
      "6\n",
      "7\n",
      "8\n",
      "9\n",
      "10\n"
     ]
    }
   ],
   "source": [
    "## for loop example\n",
    "for i in range(1,10+1):\n",
    "    print(i)"
   ]
  },
  {
   "cell_type": "code",
   "execution_count": 16,
   "id": "8dfd13a5-1e88-41da-8a9d-484c5e39b21f",
   "metadata": {},
   "outputs": [
    {
     "name": "stdout",
     "output_type": "stream",
     "text": [
      "1\n",
      "2\n",
      "3\n",
      "4\n",
      "5\n",
      "6\n",
      "7\n",
      "8\n",
      "9\n",
      "10\n"
     ]
    }
   ],
   "source": [
    "## for while loop\n",
    "i=0\n",
    "while(i<10):\n",
    "    i=i+1\n",
    "    print(i)"
   ]
  },
  {
   "cell_type": "markdown",
   "id": "e485dd2c-0ddb-4db0-a93e-1feb39cfb33b",
   "metadata": {},
   "source": [
    "Q2 Write a python program to print the sum and product of the first 10 natural numbers using for\n",
    "and while loop."
   ]
  },
  {
   "cell_type": "code",
   "execution_count": 1,
   "id": "8384d4b3-b8ec-4f52-9742-29e91a36399e",
   "metadata": {},
   "outputs": [
    {
     "name": "stdout",
     "output_type": "stream",
     "text": [
      "1\n",
      "2\n",
      "3\n",
      "4\n",
      "5\n",
      "6\n",
      "7\n",
      "8\n",
      "9\n",
      "10\n",
      "sum is : 55\n",
      "product is : 3628800\n"
     ]
    }
   ],
   "source": [
    "sum=0\n",
    "product=1\n",
    "for i in range(1,10+1):\n",
    "    print(i)\n",
    "    sum=sum+i\n",
    "    product=product*i\n",
    "print(\"sum is :\",sum)\n",
    "print(\"product is :\",product)"
   ]
  },
  {
   "cell_type": "code",
   "execution_count": 2,
   "id": "12ca8960-62ac-47ee-abd8-e6296a33a0ea",
   "metadata": {},
   "outputs": [
    {
     "name": "stdout",
     "output_type": "stream",
     "text": [
      "The sum is: 55\n",
      "The product is : 3628800\n"
     ]
    }
   ],
   "source": [
    "## using while loop\n",
    "sum = 0\n",
    "product=1\n",
    "i = 1\n",
    "while i <= 10:\n",
    "    sum = sum + i\n",
    "    product=product*i\n",
    "    i = i + 1\n",
    "    \n",
    "\n",
    "print(\"The sum is:\", sum)\n",
    "print(\"The product is :\", product)"
   ]
  },
  {
   "cell_type": "markdown",
   "id": "84c5d0fe-b8a0-4f51-a19b-469519a22091",
   "metadata": {},
   "source": [
    "Q3 Create a python program to compute the electricity bill for a household. \n",
    "The per-unit charges in rupees are as follows: For the first 100 units, the user will be charged Rs. 4.5 per\n",
    "unit, for the next 100 units, the user will be charged Rs. 6 per unit, and for the next 100 units, the user will\n",
    "be charged Rs. 10 per unit, After 300 units and above the user will be charged Rs. 20 per unit.\n",
    "You are required to take the units of electricity consumed in a month from the user as input."
   ]
  },
  {
   "cell_type": "code",
   "execution_count": 3,
   "id": "8ef93fb2-8b8d-40c6-aa7a-dadebf95e7d0",
   "metadata": {},
   "outputs": [
    {
     "name": "stdin",
     "output_type": "stream",
     "text": [
      "enter the unit 310\n"
     ]
    },
    {
     "name": "stdout",
     "output_type": "stream",
     "text": [
      "Total electricity bill: 2250.0\n"
     ]
    }
   ],
   "source": [
    "units=int(input(\"enter the unit\"))\n",
    "bill = 0\n",
    "if units <= 100:\n",
    "    bill = units * 4.5\n",
    "elif units <= 200:\n",
    "    bill = (100 * 4.5) + ((units-100) * 6)\n",
    "elif units <= 300:\n",
    "    bill = (100 * 4.5) + (100 * 6) + ((units-200) * 10)\n",
    "else:\n",
    "    bill = (100 * 4.5) + (100 * 6) + (100 * 10) + ((units-300) * 20)\n",
    "    \n",
    "\n",
    "\n",
    "print(\"Total electricity bill:\",bill)"
   ]
  },
  {
   "cell_type": "markdown",
   "id": "f00d4535-d70f-4a33-a361-e5afe1876991",
   "metadata": {},
   "source": [
    "Q4 Create a list of numbers from 1 to 100. Use for loop and while loop to calculate the cube of each\n",
    "number and if the cube of that number is divisible by 4 or 5 then append that number in a list and print\n",
    "that list."
   ]
  },
  {
   "cell_type": "code",
   "execution_count": 5,
   "id": "87e3a5b6-5005-4b4e-b558-1c1190af104e",
   "metadata": {},
   "outputs": [
    {
     "name": "stdout",
     "output_type": "stream",
     "text": [
      "[1, 2, 3, 4, 5, 6, 7, 8, 9, 10, 11, 12, 13, 14, 15, 16, 17, 18, 19, 20, 21, 22, 23, 24, 25, 26, 27, 28, 29, 30, 31, 32, 33, 34, 35, 36, 37, 38, 39, 40, 41, 42, 43, 44, 45, 46, 47, 48, 49, 50, 51, 52, 53, 54, 55, 56, 57, 58, 59, 60, 61, 62, 63, 64, 65, 66, 67, 68, 69, 70, 71, 72, 73, 74, 75, 76, 77, 78, 79, 80, 81, 82, 83, 84, 85, 86, 87, 88, 89, 90, 91, 92, 93, 94, 95, 96, 97, 98, 99, 100]\n",
      "The 100 elements are inserted in list\n",
      "\n",
      "[1, 8, 27, 64, 125, 216, 343, 512, 729, 1000, 1331, 1728, 2197, 2744, 3375, 4096, 4913, 5832, 6859, 8000, 9261, 10648, 12167, 13824, 15625, 17576, 19683, 21952, 24389, 27000, 29791, 32768, 35937, 39304, 42875, 46656, 50653, 54872, 59319, 64000, 68921, 74088, 79507, 85184, 91125, 97336, 103823, 110592, 117649, 125000, 132651, 140608, 148877, 157464, 166375, 175616, 185193, 195112, 205379, 216000, 226981, 238328, 250047, 262144, 274625, 287496, 300763, 314432, 328509, 343000, 357911, 373248, 389017, 405224, 421875, 438976, 456533, 474552, 493039, 512000, 531441, 551368, 571787, 592704, 614125, 636056, 658503, 681472, 704969, 729000, 753571, 778688, 804357, 830584, 857375, 884736, 912673, 941192, 970299, 1000000]\n",
      "here is the final list of 1-100 numbers of there cubes and which can be divisible by 4 or 5\n",
      "\n",
      "the list numbers are:\n",
      " [8, 64, 125, 216, 512, 1000, 1728, 2744, 3375, 4096, 5832, 8000, 10648, 13824, 15625, 17576, 21952, 27000, 32768, 39304, 42875, 46656, 54872, 64000, 74088, 85184, 91125, 97336, 110592, 125000, 140608, 157464, 166375, 175616, 195112, 216000, 238328, 262144, 274625, 287496, 314432, 343000, 373248, 405224, 421875, 438976, 474552, 512000, 551368, 592704, 614125, 636056, 681472, 729000, 778688, 830584, 857375, 884736, 941192, 1000000]\n"
     ]
    }
   ],
   "source": [
    "## using for loop\n",
    "\n",
    "l=[]\n",
    "l_cube=[]\n",
    "for i in range(1,100+1):\n",
    "    # print(i)\n",
    "    l.append(i)\n",
    "print(l)\n",
    "\n",
    "print(\"The 100 elements are inserted in list\\n\")\n",
    "for j in l:\n",
    "    j=j**3\n",
    "    # print(j)\n",
    "    l_cube.append(j)\n",
    "print(l_cube)\n",
    "\n",
    "print(\"here is the final list of 1-100 numbers of there cubes and which can be divisible by 4 or 5\\n\")\n",
    "l_new_cube_list=[]\n",
    "for a in l_cube:\n",
    "    if a%4==0 or a%5==0:\n",
    "        l_new_cube_list.append(a)\n",
    "print(\"the list numbers are:\\n\",l_new_cube_list)"
   ]
  },
  {
   "cell_type": "code",
   "execution_count": 7,
   "id": "8df6b253-cb37-4388-8622-625a1a32cf35",
   "metadata": {},
   "outputs": [
    {
     "name": "stdout",
     "output_type": "stream",
     "text": [
      "1\n",
      "2\n",
      "3\n",
      "4\n",
      "5\n",
      "6\n",
      "7\n",
      "8\n",
      "9\n",
      "10\n",
      "11\n",
      "12\n",
      "13\n",
      "14\n",
      "15\n",
      "16\n",
      "17\n",
      "18\n",
      "19\n",
      "20\n",
      "21\n",
      "22\n",
      "23\n",
      "24\n",
      "25\n",
      "26\n",
      "27\n",
      "28\n",
      "29\n",
      "30\n",
      "31\n",
      "32\n",
      "33\n",
      "34\n",
      "35\n",
      "36\n",
      "37\n",
      "38\n",
      "39\n",
      "40\n",
      "41\n",
      "42\n",
      "43\n",
      "44\n",
      "45\n",
      "46\n",
      "47\n",
      "48\n",
      "49\n",
      "50\n",
      "51\n",
      "52\n",
      "53\n",
      "54\n",
      "55\n",
      "56\n",
      "57\n",
      "58\n",
      "59\n",
      "60\n",
      "61\n",
      "62\n",
      "63\n",
      "64\n",
      "65\n",
      "66\n",
      "67\n",
      "68\n",
      "69\n",
      "70\n",
      "71\n",
      "72\n",
      "73\n",
      "74\n",
      "75\n",
      "76\n",
      "77\n",
      "78\n",
      "79\n",
      "80\n",
      "81\n",
      "82\n",
      "83\n",
      "84\n",
      "85\n",
      "86\n",
      "87\n",
      "88\n",
      "89\n",
      "90\n",
      "91\n",
      "92\n",
      "93\n",
      "94\n",
      "95\n",
      "96\n",
      "97\n",
      "98\n",
      "99\n",
      "100\n",
      "[1, 2, 3, 4, 5, 6, 7, 8, 9, 10, 11, 12, 13, 14, 15, 16, 17, 18, 19, 20, 21, 22, 23, 24, 25, 26, 27, 28, 29, 30, 31, 32, 33, 34, 35, 36, 37, 38, 39, 40, 41, 42, 43, 44, 45, 46, 47, 48, 49, 50, 51, 52, 53, 54, 55, 56, 57, 58, 59, 60, 61, 62, 63, 64, 65, 66, 67, 68, 69, 70, 71, 72, 73, 74, 75, 76, 77, 78, 79, 80, 81, 82, 83, 84, 85, 86, 87, 88, 89, 90, 91, 92, 93, 94, 95, 96, 97, 98, 99, 100]\n",
      "the above list is stored from 1 to 100\n",
      "\n",
      "the below list is cube of the above one\n",
      "\n",
      "[1, 8, 27, 64, 125, 216, 343, 512, 729, 1000, 1331, 1728, 2197, 2744, 3375, 4096, 4913, 5832, 6859, 8000, 9261, 10648, 12167, 13824, 15625, 17576, 19683, 21952, 24389, 27000, 29791, 32768, 35937, 39304, 42875, 46656, 50653, 54872, 59319, 64000, 68921, 74088, 79507, 85184, 91125, 97336, 103823, 110592, 117649, 125000, 132651, 140608, 148877, 157464, 166375, 175616, 185193, 195112, 205379, 216000, 226981, 238328, 250047, 262144, 274625, 287496, 300763, 314432, 328509, 343000, 357911, 373248, 389017, 405224, 421875, 438976, 456533, 474552, 493039, 512000, 531441, 551368, 571787, 592704, 614125, 636056, 658503, 681472, 704969, 729000, 753571, 778688, 804357, 830584, 857375, 884736, 912673, 941192, 970299, 1000000]\n",
      "100\n",
      "the condition for 4 and 5\n",
      "\n",
      "\n",
      "\n",
      "the final list is: \n",
      "\n",
      "[8, 64, 125, 216, 512, 1000, 1728, 2744, 3375, 4096, 5832, 8000, 10648, 13824, 15625, 17576, 21952, 27000, 32768, 39304, 42875, 46656, 54872, 64000, 74088, 85184, 91125, 97336, 110592, 125000, 140608, 157464, 166375, 175616, 195112, 216000, 238328, 262144, 274625, 287496, 314432, 343000, 373248, 405224, 421875, 438976, 474552, 512000, 551368, 592704, 614125, 636056, 681472, 729000, 778688, 830584, 857375, 884736, 941192, 1000000]\n"
     ]
    }
   ],
   "source": [
    "## using while loop\n",
    "l=[]\n",
    "l2=[]\n",
    "i=0\n",
    "j=0\n",
    "k=0\n",
    "while i<100:\n",
    "    i=i+1\n",
    "    print(i)\n",
    "    l.append(i)\n",
    "print(l)\n",
    "# print(len(l))\n",
    "\n",
    "print(\"the above list is stored from 1 to 100\\n\")\n",
    "\n",
    "print(\"the below list is cube of the above one\\n\")\n",
    "\n",
    "while j < len(l):\n",
    "     j=j+1\n",
    "    #  a=print(j**3)\n",
    "    \n",
    "    \n",
    "    \n",
    "     l2.append(j**3)\n",
    "     \n",
    "     \n",
    "print(l2)\n",
    "\n",
    "print(len(l2))\n",
    "print(\"the condition for 4 and 5\\n\")\n",
    "l3=[]\n",
    "\n",
    "print(\"\\n\")\n",
    "\n",
    "while k <len(l2):\n",
    "    k=k+1\n",
    "    a=k**3\n",
    "    # print(a)\n",
    "    if a%4==0 or a%5==0:\n",
    "        l3.append(a)\n",
    "        \n",
    "print(\"the final list is: \\n\")\n",
    "print(l3)"
   ]
  },
  {
   "cell_type": "markdown",
   "id": "5d0e2b93-a877-4785-a1bd-60dcc9a76679",
   "metadata": {},
   "source": [
    "Q5 Write a program to filter count vowels in the below-given string.\n",
    "string = \"I want to become a data scientist\""
   ]
  },
  {
   "cell_type": "code",
   "execution_count": 11,
   "id": "3e0cf420-7c51-4b63-a0b5-1ac3f2084f5b",
   "metadata": {},
   "outputs": [
    {
     "name": "stdout",
     "output_type": "stream",
     "text": [
      "I \n",
      "\n",
      "  \n",
      "\n",
      "w \n",
      "\n",
      "a \n",
      "\n",
      "n \n",
      "\n",
      "t \n",
      "\n",
      "  \n",
      "\n",
      "t \n",
      "\n",
      "o \n",
      "\n",
      "  \n",
      "\n",
      "b \n",
      "\n",
      "e \n",
      "\n",
      "c \n",
      "\n",
      "o \n",
      "\n",
      "m \n",
      "\n",
      "e \n",
      "\n",
      "  \n",
      "\n",
      "a \n",
      "\n",
      "  \n",
      "\n",
      "d \n",
      "\n",
      "a \n",
      "\n",
      "t \n",
      "\n",
      "a \n",
      "\n",
      "  \n",
      "\n",
      "s \n",
      "\n",
      "c \n",
      "\n",
      "i \n",
      "\n",
      "e \n",
      "\n",
      "n \n",
      "\n",
      "t \n",
      "\n",
      "i \n",
      "\n",
      "s \n",
      "\n",
      "t \n",
      "\n",
      "Total number of vowels are: \n",
      " 12\n"
     ]
    }
   ],
   "source": [
    "vowels=(\"aeiouAEIOU\")\n",
    "count=0\n",
    "string= \"I want to become a data scientist\"\n",
    "for i in string:\n",
    "    print(i,'\\n') \n",
    "    if i in vowels:\n",
    "        count=count+1 \n",
    "        \n",
    "\n",
    "print(\"Total number of vowels are: \\n\",count)"
   ]
  },
  {
   "cell_type": "code",
   "execution_count": null,
   "id": "00f8c7fe-7f34-41c9-b732-cff969d69ea2",
   "metadata": {},
   "outputs": [],
   "source": []
  }
 ],
 "metadata": {
  "kernelspec": {
   "display_name": "Python 3 (ipykernel)",
   "language": "python",
   "name": "python3"
  },
  "language_info": {
   "codemirror_mode": {
    "name": "ipython",
    "version": 3
   },
   "file_extension": ".py",
   "mimetype": "text/x-python",
   "name": "python",
   "nbconvert_exporter": "python",
   "pygments_lexer": "ipython3",
   "version": "3.10.8"
  }
 },
 "nbformat": 4,
 "nbformat_minor": 5
}
